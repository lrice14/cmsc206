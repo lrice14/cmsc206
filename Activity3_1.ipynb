{
  "nbformat": 4,
  "nbformat_minor": 0,
  "metadata": {
    "colab": {
      "provenance": [],
      "authorship_tag": "ABX9TyNWVnEbFx38lFSMWaZUXf57",
      "include_colab_link": true
    },
    "kernelspec": {
      "name": "python3",
      "display_name": "Python 3"
    },
    "language_info": {
      "name": "python"
    }
  },
  "cells": [
    {
      "cell_type": "markdown",
      "metadata": {
        "id": "view-in-github",
        "colab_type": "text"
      },
      "source": [
        "<a href=\"https://colab.research.google.com/github/lrice14/cmsc206/blob/main/Activity3_1.ipynb\" target=\"_parent\"><img src=\"https://colab.research.google.com/assets/colab-badge.svg\" alt=\"Open In Colab\"/></a>"
      ]
    },
    {
      "cell_type": "code",
      "execution_count": 1,
      "metadata": {
        "id": "69mtdHWtkJ6z"
      },
      "outputs": [],
      "source": [
        "#A function, print_big_enough(), that accepts two parameters: a list of numbers and a number\n",
        "#The function should print, in order, all of the elements in the list that are bigger then (>) the second parameter\n",
        "\n",
        "def print_big_enough(numbers_list, number):\n",
        "    result = []\n",
        "    for num in numbers_list:\n",
        "        if num > number:\n",
        "            result.append(num)\n",
        "    print(result)"
      ]
    },
    {
      "cell_type": "code",
      "source": [],
      "metadata": {
        "id": "jxJrAH2xllqf"
      },
      "execution_count": null,
      "outputs": []
    },
    {
      "cell_type": "code",
      "source": [
        "#Another function that accepts a date (mm/dd/yy) and outputs it as Month, Day, Year\n",
        "def arrange_date(date_input):\n",
        "    split_date = date_input.split('/')\n",
        "\n",
        "    month_names = ['January', 'February', 'March', 'April', 'May', 'June', 'July', 'August', 'September', 'October', 'November', 'December' ]\n",
        "\n",
        "    formatted_date = \"{} {}, 20{}\".format(month_names[int(split_date[0]) - 1], split_date[1], split_date[2])\n",
        "\n",
        "    print(formatted_date)"
      ],
      "metadata": {
        "id": "7CJTjHTLlvQr"
      },
      "execution_count": null,
      "outputs": []
    }
  ]
}