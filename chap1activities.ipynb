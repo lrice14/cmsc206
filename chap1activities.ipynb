{
  "nbformat": 4,
  "nbformat_minor": 0,
  "metadata": {
    "colab": {
      "provenance": [],
      "authorship_tag": "ABX9TyNrEOgRW0Q2rzffAroRZZFY",
      "include_colab_link": true
    },
    "kernelspec": {
      "name": "python3",
      "display_name": "Python 3"
    },
    "language_info": {
      "name": "python"
    }
  },
  "cells": [
    {
      "cell_type": "markdown",
      "metadata": {
        "id": "view-in-github",
        "colab_type": "text"
      },
      "source": [
        "<a href=\"https://colab.research.google.com/github/lrice14/cmsc206/blob/main/chap1activities.ipynb\" target=\"_parent\"><img src=\"https://colab.research.google.com/assets/colab-badge.svg\" alt=\"Open In Colab\"/></a>"
      ]
    },
    {
      "cell_type": "code",
      "execution_count": null,
      "metadata": {
        "id": "7-Rvn2TzDUGf"
      },
      "outputs": [],
      "source": []
    },
    {
      "cell_type": "markdown",
      "source": [
        "**ACTIVITY 1**\n",
        "If you start with 2 fish, and they breed twice, producing 71 offspring the first time, and 233 offspring the second time, and then 13 fish are swallowed by a hungry moray eel\n",
        "How many fish do you have left?\n",
        "How many aquariums do you need if you can put 30 fish per aquarium?\n",
        "Write Python code to solve this problem\n"
      ],
      "metadata": {
        "id": "1CsR-_MFGl8P"
      }
    },
    {
      "cell_type": "code",
      "source": [
        "fish = 2\n",
        "offspring1 = 71\n",
        "offspring2 = 233\n",
        "left = fish + offspring1 + offspring2 - 13\n",
        "print('there are', left, 'fishes left')\n",
        "aquarium = left/30\n",
        "print(aquarium,'I will need approximately 10 aquariums')\n",
        "\n"
      ],
      "metadata": {
        "colab": {
          "base_uri": "https://localhost:8080/"
        },
        "id": "Sb55WLXlGx-a",
        "outputId": "03e07477-2b6d-4f01-91f4-9006cb61d334"
      },
      "execution_count": 11,
      "outputs": [
        {
          "output_type": "stream",
          "name": "stdout",
          "text": [
            "there are 293 fishes left\n",
            "9.766666666666667 I will need approximately 10 aquariums\n"
          ]
        }
      ]
    },
    {
      "cell_type": "markdown",
      "source": [
        "Implement Python code to -\n",
        "Ask user for 3 integer values\n",
        "Add them up\n",
        "Display result\n",
        "Enhance it by performing one additional arithmetic of your choice\n"
      ],
      "metadata": {
        "id": "8gpAv5TXKikb"
      }
    },
    {
      "cell_type": "code",
      "source": [
        "userInput1= input('enter a first integer: ')\n",
        "userInput2=input('enter a second integer: ')\n",
        "userInput3=input('enter a third integer: ')\n",
        "userInteger1=int(userInput1)\n",
        "userInteger2=int(userInput2)\n",
        "userInteger3=int(userInput3)\n",
        "result = userInteger1 + userInteger2 + userInteger3\n",
        "print(result)\n"
      ],
      "metadata": {
        "colab": {
          "base_uri": "https://localhost:8080/"
        },
        "id": "P8b2xFeCKkLI",
        "outputId": "1c1b332b-c45e-4ddb-b675-b258ff96ec59"
      },
      "execution_count": 15,
      "outputs": [
        {
          "output_type": "stream",
          "name": "stdout",
          "text": [
            "enter a first integer: 12\n",
            "enter a second integer: 23\n",
            "enter a third integer: 34\n",
            "69\n"
          ]
        }
      ]
    }
  ]
}